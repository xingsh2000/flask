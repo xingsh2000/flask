{
 "cells": [
  {
   "cell_type": "markdown",
   "metadata": {},
   "source": [
    "# 一个Web应用的本质就是："
   ]
  },
  {
   "cell_type": "markdown",
   "metadata": {},
   "source": [
    "#1.浏览器发送一个HTTP请求；\n",
    "#2.服务器收到请求，生成一个HTML文档；\n",
    "#3.服务器把HTML文档作为HTTP响应的Body发送给浏览器；\n",
    "#4.浏览器收到HTTP响应，从HTTP Body取出HTML文档并显示。"
   ]
  },
  {
   "cell_type": "markdown",
   "metadata": {},
   "source": [
    "## WSGI接口（Web Server Gateway Interface）："
   ]
  },
  {
   "cell_type": "markdown",
   "metadata": {},
   "source": [
    "#定义：Web服务网管接口，协议\n",
    "#作用：将由服务器软件生成的底层代码（接收HTTP请求，解析HTTP请求，发送HTTP响应）和我们自己生成的Web业务联系起来的接口"
   ]
  },
  {
   "cell_type": "code",
   "execution_count": 2,
   "metadata": {},
   "outputs": [
    {
     "data": {
      "text/plain": [
       "\"\\ndef application(environ, start_response):\\n    start_response('200 OK', [('Content-Type', 'text/html')])\\n    return [b'<h1>Hello, web!</h1>']\\n\""
      ]
     },
     "execution_count": 2,
     "metadata": {},
     "output_type": "execute_result"
    }
   ],
   "source": [
    "'''\n",
    "只需程序中实现以下方法：\n",
    "def application(environ, start_response):\n",
    "    start_response('200 OK', [('Content-Type', 'text/html')])\n",
    "    return [b'<h1>Hello, web!</h1>']\n",
    "'''"
   ]
  },
  {
   "cell_type": "markdown",
   "metadata": {},
   "source": [
    "# flask:"
   ]
  },
  {
   "cell_type": "markdown",
   "metadata": {},
   "source": [
    "#定义：Flask是基于Python开发并且依赖jinja2模板和Werkzeug WSGI服务的一个微型框架。\n",
    "#作用：在WSGI接口之上能进一步抽象，让我们专注于用一个函数处理一个URL，至于URL到函数的映射，就交给flask来做。"
   ]
  },
  {
   "cell_type": "markdown",
   "metadata": {},
   "source": [
    "安装："
   ]
  },
  {
   "cell_type": "markdown",
   "metadata": {},
   "source": [
    "      pip install flask"
   ]
  },
  {
   "cell_type": "markdown",
   "metadata": {},
   "source": [
    "### 第一个例子：Hello world！"
   ]
  },
  {
   "cell_type": "markdown",
   "metadata": {},
   "source": [
    "1.引入Flask类："
   ]
  },
  {
   "cell_type": "markdown",
   "metadata": {},
   "source": [
    "from flask import Flask"
   ]
  },
  {
   "cell_type": "markdown",
   "metadata": {},
   "source": [
    "2.创建Flask对象："
   ]
  },
  {
   "cell_type": "markdown",
   "metadata": {},
   "source": [
    "app=Flask(__name__)"
   ]
  },
  {
   "cell_type": "markdown",
   "metadata": {},
   "source": [
    "如果文件作为主程序执行，那么__name__变量的值就是__main__，如果是被其他模块引用，那么__name__的值就是模块名称。"
   ]
  },
  {
   "cell_type": "markdown",
   "metadata": {},
   "source": [
    "3.路由："
   ]
  },
  {
   "cell_type": "markdown",
   "metadata": {},
   "source": [
    "@app.route('/')\n",
    "def hello_word():\n",
    "    return 'Hello world!'"
   ]
  },
  {
   "cell_type": "code",
   "execution_count": null,
   "metadata": {},
   "outputs": [],
   "source": [
    "#def hello_word():\n",
    "#return 'Hello world!'\n",
    "\n",
    "#app.add_url_rule('/',hello_world)"
   ]
  },
  {
   "cell_type": "markdown",
   "metadata": {},
   "source": [
    "app变量的route（）装饰器将url绑定到函数"
   ]
  },
  {
   "cell_type": "markdown",
   "metadata": {},
   "source": [
    "4.运行主程序："
   ]
  },
  {
   "cell_type": "markdown",
   "metadata": {},
   "source": [
    "if __name__==\"__main__\":\n",
    "    app.run()"
   ]
  },
  {
   "cell_type": "code",
   "execution_count": null,
   "metadata": {},
   "outputs": [
    {
     "name": "stdout",
     "output_type": "stream",
     "text": [
      " * Serving Flask app \"__main__\" (lazy loading)\n",
      " * Environment: production\n",
      "   WARNING: Do not use the development server in a production environment.\n",
      "   Use a production WSGI server instead.\n",
      " * Debug mode: off\n"
     ]
    },
    {
     "name": "stderr",
     "output_type": "stream",
     "text": [
      " * Running on http://127.0.0.1:5000/ (Press CTRL+C to quit)\n",
      "127.0.0.1 - - [07/Dec/2019 17:38:35] \"GET / HTTP/1.1\" 200 -\n"
     ]
    }
   ],
   "source": [
    "from flask import Flask\n",
    "app=Flask(__name__)\n",
    "\n",
    "@app.route('/')\n",
    "def hello_word():\n",
    "    return 'Hello world!'\n",
    "\n",
    "if __name__==\"__main__\":\n",
    "    app.run()"
   ]
  },
  {
   "cell_type": "code",
   "execution_count": null,
   "metadata": {},
   "outputs": [],
   "source": []
  }
 ],
 "metadata": {
  "kernelspec": {
   "display_name": "Python 3",
   "language": "python",
   "name": "python3"
  },
  "language_info": {
   "codemirror_mode": {
    "name": "ipython",
    "version": 3
   },
   "file_extension": ".py",
   "mimetype": "text/x-python",
   "name": "python",
   "nbconvert_exporter": "python",
   "pygments_lexer": "ipython3",
   "version": "3.7.3"
  }
 },
 "nbformat": 4,
 "nbformat_minor": 2
}
